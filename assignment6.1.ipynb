{
 "cells": [
  {
   "cell_type": "code",
   "execution_count": null,
   "id": "d8e6a482-2b6d-4597-800d-baf17f90a4c2",
   "metadata": {},
   "outputs": [],
   "source": [
    "Q1."
   ]
  },
  {
   "cell_type": "code",
   "execution_count": null,
   "id": "cddc4ca1-51d1-4fe2-a42d-cd0fbbb559e5",
   "metadata": {},
   "outputs": [],
   "source": [
    "A database is a structured collection of data that is organized in a way that makes it easy to manage, retrieve, and update. Databases are used in various applications and systems to store and manage large volumes of information efficiently"
   ]
  },
  {
   "cell_type": "code",
   "execution_count": null,
   "id": "66da37eb-9c57-4295-b329-61f69ff7ff20",
   "metadata": {},
   "outputs": [],
   "source": [
    "SQL : SQL databases are relational databases, meaning they organize data into tables with predefined schema, and relationships between tables can be established.\n",
    "EX : MySQL, PostgreSQL, Oracle, SQL Server."
   ]
  },
  {
   "cell_type": "code",
   "execution_count": null,
   "id": "31852aa3-7c63-4630-a4ba-9881ec974b35",
   "metadata": {},
   "outputs": [],
   "source": [
    "NoSQL : NoSQL databases are non-relational and do not require a fixed schema. They can store unstructured and semi-structured data.\n",
    "EX : MongoDB, Cassandra, Redis, CouchDB."
   ]
  },
  {
   "cell_type": "code",
   "execution_count": null,
   "id": "33b9a96c-bec1-4240-9e04-fa0df8a484fd",
   "metadata": {},
   "outputs": [],
   "source": []
  },
  {
   "cell_type": "code",
   "execution_count": null,
   "id": "8168f83e-6039-4389-9174-48d61f0a4776",
   "metadata": {},
   "outputs": [],
   "source": []
  },
  {
   "cell_type": "code",
   "execution_count": null,
   "id": "c6f89f71-bf56-40b1-aee6-033d943a33a6",
   "metadata": {},
   "outputs": [],
   "source": [
    "Q2."
   ]
  },
  {
   "cell_type": "code",
   "execution_count": null,
   "id": "62a93d49-b20c-499b-8664-af3530d4edfb",
   "metadata": {},
   "outputs": [],
   "source": [
    "DDL stands for Data Definition Language. It is a subset of SQL (Structured Query Language) that deals with the structure or schema of a database"
   ]
  },
  {
   "cell_type": "code",
   "execution_count": null,
   "id": "1066a8be-7dac-4f7a-a17f-6c900e8ea5a1",
   "metadata": {},
   "outputs": [],
   "source": [
    "CREATE :"
   ]
  },
  {
   "cell_type": "code",
   "execution_count": null,
   "id": "78552ba7-a0cf-4146-8c05-8fcfef446850",
   "metadata": {},
   "outputs": [],
   "source": [
    "CREATE TABLE employees (\n",
    "  employee_id INT PRIMARY KEY,\n",
    "  first_name VARCHAR(50),\n",
    "  last_name VARCHAR(50),\n",
    "  hire_date DATE\n",
    ");\n"
   ]
  },
  {
   "cell_type": "code",
   "execution_count": null,
   "id": "25df11cc-8d6a-4407-b32d-64613b2f852d",
   "metadata": {},
   "outputs": [],
   "source": [
    "ALTER :"
   ]
  },
  {
   "cell_type": "code",
   "execution_count": null,
   "id": "50e4f389-9187-4c38-b6ce-eac0769f20e5",
   "metadata": {},
   "outputs": [],
   "source": [
    "ALTER TABLE employees\n",
    "ADD COLUMN email VARCHAR(100);\n"
   ]
  },
  {
   "cell_type": "code",
   "execution_count": null,
   "id": "aa79471b-1131-418c-96af-595d99700670",
   "metadata": {},
   "outputs": [],
   "source": [
    "DROP :"
   ]
  },
  {
   "cell_type": "code",
   "execution_count": null,
   "id": "5b1c9cc3-ef31-4a49-97fc-a33f11de9ce4",
   "metadata": {},
   "outputs": [],
   "source": [
    "DROP TABLE employees;\n"
   ]
  },
  {
   "cell_type": "code",
   "execution_count": null,
   "id": "ee580c56-25c0-454f-8786-bea27d988e5d",
   "metadata": {},
   "outputs": [],
   "source": [
    "TRUNCATE :"
   ]
  },
  {
   "cell_type": "code",
   "execution_count": null,
   "id": "bb1c2ed9-d1ae-4e93-b0e7-ce6b42388a90",
   "metadata": {},
   "outputs": [],
   "source": [
    "TRUNCATE TABLE employees;\n"
   ]
  },
  {
   "cell_type": "code",
   "execution_count": null,
   "id": "178ee114-1402-4e36-9bec-2a9c6dc924b8",
   "metadata": {},
   "outputs": [],
   "source": []
  },
  {
   "cell_type": "code",
   "execution_count": null,
   "id": "c4afe3f9-fa71-4021-bd92-0aca76c91424",
   "metadata": {},
   "outputs": [],
   "source": []
  },
  {
   "cell_type": "code",
   "execution_count": null,
   "id": "85906cd4-c3dd-4b79-afde-5a7b6cfc7a15",
   "metadata": {},
   "outputs": [],
   "source": [
    "Q3."
   ]
  },
  {
   "cell_type": "code",
   "execution_count": null,
   "id": "8c2b56d6-2856-4d5e-8a1c-4bee5da82d53",
   "metadata": {},
   "outputs": [],
   "source": [
    "DML stands for Data Manipulation Language. It is a subset of SQL (Structured Query Language) responsible for the manipulation of data stored in a database."
   ]
  },
  {
   "cell_type": "code",
   "execution_count": null,
   "id": "357122e6-cc6e-4c2f-8ab2-02088323e4d1",
   "metadata": {},
   "outputs": [],
   "source": [
    "SELECT first_name, last_name FROM employees WHERE department_id = 1;\n"
   ]
  },
  {
   "cell_type": "code",
   "execution_count": null,
   "id": "f03f5852-a79a-4828-a572-c995bd80a509",
   "metadata": {},
   "outputs": [],
   "source": [
    "INSERT :"
   ]
  },
  {
   "cell_type": "code",
   "execution_count": null,
   "id": "b2c712d1-fec1-47f6-bcd5-f2df070a1038",
   "metadata": {},
   "outputs": [],
   "source": [
    "INSERT INTO employees (first_name, last_name, hire_date) VALUES ('John', 'Doe', '2023-01-15');\n"
   ]
  },
  {
   "cell_type": "code",
   "execution_count": null,
   "id": "66d2ece9-d205-40d8-a171-f1724f5adf44",
   "metadata": {},
   "outputs": [],
   "source": [
    "DELETE :"
   ]
  },
  {
   "cell_type": "code",
   "execution_count": null,
   "id": "68e27499-11aa-4c01-b508-bd9a52989a03",
   "metadata": {},
   "outputs": [],
   "source": [
    "DELETE FROM employees WHERE employee_id = 101;\n"
   ]
  },
  {
   "cell_type": "code",
   "execution_count": null,
   "id": "38175d8a-6384-45dd-bfe8-d73fffc455d9",
   "metadata": {},
   "outputs": [],
   "source": [
    "UPDATE :"
   ]
  },
  {
   "cell_type": "code",
   "execution_count": null,
   "id": "03deebba-e59b-42e5-8c97-36a423a1417b",
   "metadata": {},
   "outputs": [],
   "source": [
    "UPDATE employees SET salary = salary * 1.1 WHERE department_id = 2;\n"
   ]
  },
  {
   "cell_type": "code",
   "execution_count": null,
   "id": "11beb52b-65e0-477f-9e03-53810f4cc212",
   "metadata": {},
   "outputs": [],
   "source": []
  },
  {
   "cell_type": "code",
   "execution_count": null,
   "id": "deabf355-c322-43ab-b13c-44de31ec8111",
   "metadata": {},
   "outputs": [],
   "source": []
  },
  {
   "cell_type": "code",
   "execution_count": null,
   "id": "f748446c-3d2d-4bea-86f9-812fe5af591e",
   "metadata": {},
   "outputs": [],
   "source": [
    "Q4."
   ]
  },
  {
   "cell_type": "code",
   "execution_count": null,
   "id": "620787f8-dcef-4f4e-b57a-c8aa166b1ed7",
   "metadata": {},
   "outputs": [],
   "source": [
    "DQL stands for Data Query Language. It is a subset of SQL (Structured Query Language) specifically designed for querying and retrieving data from a database."
   ]
  },
  {
   "cell_type": "code",
   "execution_count": null,
   "id": "315011a6-2566-4792-93b5-e0ef926445dc",
   "metadata": {},
   "outputs": [],
   "source": [
    "SELECT column1, column2\n",
    "FROM table\n",
    "WHERE condition;\n"
   ]
  },
  {
   "cell_type": "code",
   "execution_count": null,
   "id": "eccd95b5-d6ac-46fe-963b-fa06d18859cd",
   "metadata": {},
   "outputs": [],
   "source": [
    "SELECT first_name, last_name\n",
    "FROM employees\n",
    "WHERE department_id = 1;\n"
   ]
  },
  {
   "cell_type": "code",
   "execution_count": null,
   "id": "9d8f5956-038e-46c1-acff-a111ace6954a",
   "metadata": {},
   "outputs": [],
   "source": []
  },
  {
   "cell_type": "code",
   "execution_count": null,
   "id": "ff56f485-1f79-4558-951b-51c052d6555f",
   "metadata": {},
   "outputs": [],
   "source": []
  },
  {
   "cell_type": "code",
   "execution_count": null,
   "id": "38cd6f5f-5961-4165-925f-98c1cd7486dc",
   "metadata": {},
   "outputs": [],
   "source": [
    "Q5."
   ]
  },
  {
   "cell_type": "code",
   "execution_count": null,
   "id": "6b968155-0d79-4a02-9169-b603a28d9c85",
   "metadata": {},
   "outputs": [],
   "source": [
    "PRIMARY kEY : A primary key is a column or a set of columns in a relational database table that uniquely identifies each record (row) in that table. The primary key must have a unique value for each row and cannot contain null values."
   ]
  },
  {
   "cell_type": "code",
   "execution_count": null,
   "id": "75ac74c5-b31b-401a-9ffc-3af28b1223ec",
   "metadata": {},
   "outputs": [],
   "source": [
    "FOREIGN KEY : A foreign key is a column or a set of columns in a database table that refers to the primary key of another table. It establishes a link between the two tables by referencing the primary key of another table, creating a relationship between them."
   ]
  },
  {
   "cell_type": "code",
   "execution_count": null,
   "id": "7319d2ac-81bd-4d73-a33e-59a6ed96cc48",
   "metadata": {},
   "outputs": [],
   "source": []
  },
  {
   "cell_type": "code",
   "execution_count": null,
   "id": "3b6513de-da8f-4771-ab73-c9a846169787",
   "metadata": {},
   "outputs": [],
   "source": []
  },
  {
   "cell_type": "code",
   "execution_count": null,
   "id": "abf28036-ead5-4b30-8538-0f7481db90a5",
   "metadata": {},
   "outputs": [],
   "source": [
    "Q6."
   ]
  },
  {
   "cell_type": "code",
   "execution_count": null,
   "id": "8f690099-9931-4397-81f0-aa1f8a9bbbb6",
   "metadata": {},
   "outputs": [],
   "source": [
    "import mysql.connector\n",
    "mydb = mysql.connector.connect(\n",
    "  host=\"localhost\",\n",
    "  user=\"abc\",\n",
    "  password=\"password\"\n",
    ")\n",
    "print(mydb)\n",
    "mycursor = mydb.cursor()\n",
    "mycursor.execute(\"SHOW DATABASES\")\n",
    "for x in mycursor:\n",
    "  print(x)"
   ]
  },
  {
   "cell_type": "code",
   "execution_count": null,
   "id": "fb157dbd-c92b-45ff-903d-8191ce4d3278",
   "metadata": {},
   "outputs": [],
   "source": [
    " The cursor() method is used to create a cursor object. A cursor is an object that allows you to interact with the database by executing SQL queries and fetching results."
   ]
  },
  {
   "cell_type": "code",
   "execution_count": null,
   "id": "69bd3ec5-bea9-453a-b3d8-101c484142ed",
   "metadata": {},
   "outputs": [],
   "source": [
    "The execute() method is used to execute a SQL query or command. It takes a SQL string as an argument and executes that query."
   ]
  },
  {
   "cell_type": "code",
   "execution_count": null,
   "id": "728ea520-943c-4d9c-ac4a-c40f4b093066",
   "metadata": {},
   "outputs": [],
   "source": []
  },
  {
   "cell_type": "code",
   "execution_count": null,
   "id": "472767a7-d183-4bb7-993a-68a8e46c1cda",
   "metadata": {},
   "outputs": [],
   "source": []
  },
  {
   "cell_type": "code",
   "execution_count": null,
   "id": "4d36f057-ff36-4da2-84eb-a36826b01d0c",
   "metadata": {},
   "outputs": [],
   "source": [
    "Q7."
   ]
  },
  {
   "cell_type": "code",
   "execution_count": null,
   "id": "c6e30e8e-fe74-42bf-8356-ba508c8f7b7d",
   "metadata": {},
   "outputs": [],
   "source": [
    "The order of execution of SQL clauses in a query generally follows a specific sequence\n",
    "F"
   ]
  },
  {
   "cell_type": "code",
   "execution_count": null,
   "id": "635b9c9a-ba58-46aa-a88b-bb6e43bc64f7",
   "metadata": {},
   "outputs": [],
   "source": []
  }
 ],
 "metadata": {
  "kernelspec": {
   "display_name": "Python 3 (ipykernel)",
   "language": "python",
   "name": "python3"
  },
  "language_info": {
   "codemirror_mode": {
    "name": "ipython",
    "version": 3
   },
   "file_extension": ".py",
   "mimetype": "text/x-python",
   "name": "python",
   "nbconvert_exporter": "python",
   "pygments_lexer": "ipython3",
   "version": "3.10.8"
  }
 },
 "nbformat": 4,
 "nbformat_minor": 5
}
